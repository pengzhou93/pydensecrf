{
 "cells": [
  {
   "cell_type": "code",
   "execution_count": 1,
   "metadata": {},
   "outputs": [],
   "source": [
    "import sys\n",
    "sys.path.insert(0,'..')\n",
    "import numpy as np\n",
    "import pydensecrf.densecrf as dcrf\n",
    "\n",
    "from cv2 import imread, imwrite\n",
    "\n",
    "from pydensecrf.utils import unary_from_labels, create_pairwise_bilateral, create_pairwise_gaussian"
   ]
  },
  {
   "cell_type": "code",
   "execution_count": 2,
   "metadata": {},
   "outputs": [],
   "source": [
    "class fullprint:\n",
    "    'context manager for printing full numpy arrays'\n",
    "\n",
    "    def __init__(self, **kwargs):\n",
    "        if 'threshold' not in kwargs:\n",
    "            kwargs['threshold'] = np.nan\n",
    "        self.opt = kwargs\n",
    "\n",
    "    def __enter__(self):\n",
    "        self._opt = np.get_printoptions()\n",
    "        np.set_printoptions(**self.opt)\n",
    "\n",
    "    def __exit__(self, type, value, traceback):\n",
    "        np.set_printoptions(**self._opt)\n",
    "\n",
    "# with fullprint():\n",
    "#     print(a)        "
   ]
  },
  {
   "cell_type": "code",
   "execution_count": 3,
   "metadata": {},
   "outputs": [],
   "source": [
    "fn_im = 'im2.png'\n",
    "fn_anno = 'anno2.png'\n",
    "fn_output = 'test.png'"
   ]
  },
  {
   "cell_type": "code",
   "execution_count": 4,
   "metadata": {},
   "outputs": [
    {
     "data": {
      "text/plain": [
       "(213, 320, 3)"
      ]
     },
     "execution_count": 4,
     "metadata": {},
     "output_type": "execute_result"
    }
   ],
   "source": [
    "img = imread(fn_im)\n",
    "img.shape"
   ]
  },
  {
   "cell_type": "code",
   "execution_count": 5,
   "metadata": {},
   "outputs": [
    {
     "data": {
      "text/plain": [
       "(213, 320)"
      ]
     },
     "execution_count": 5,
     "metadata": {},
     "output_type": "execute_result"
    }
   ],
   "source": [
    "# Convert the annotation's RGB color to a single 32-bit integer color 0xBBGGRR\n",
    "anno_rgb = imread(fn_anno).astype(np.uint32)\n",
    "anno_lbl = anno_rgb[:,:,0] + (anno_rgb[:,:,1] << 8) + (anno_rgb[:,:,2] << 16)\n",
    "anno_lbl.shape"
   ]
  },
  {
   "cell_type": "code",
   "execution_count": 6,
   "metadata": {
    "scrolled": true
   },
   "outputs": [
    {
     "name": "stderr",
     "output_type": "stream",
     "text": [
      "/home/shhs/Desktop/user/soft/anaconda3/envs/tf_1_6/lib/python3.6/site-packages/matplotlib/figure.py:457: UserWarning: matplotlib is currently using a non-GUI backend, so cannot show the figure\n",
      "  \"matplotlib is currently using a non-GUI backend, \"\n"
     ]
    },
    {
     "data": {
      "image/png": "[encoded data removed]",
      "text/plain": [
       "<Figure size 432x288 with 4 Axes>"
      ]
     },
     "metadata": {},
     "output_type": "display_data"
    }
   ],
   "source": [
    "import matplotlib.pyplot as plt\n",
    "%matplotlib inline\n",
    "fig, axes = plt.subplots(nrows=2, ncols=2)\n",
    "ax0, ax1, ax2, ax3 = axes.flatten()\n",
    "\n",
    "ax0.hist(anno_rgb[:, :, 0].ravel())\n",
    "ax1.hist(anno_rgb[:, :, 1].ravel())\n",
    "ax2.hist(anno_rgb[:, :, 2].ravel())\n",
    "ax3.hist(anno_lbl.ravel())\n",
    "ax3.set_title('anno_lbl')\n",
    "fig.tight_layout()\n",
    "fig.show()"
   ]
  },
  {
   "cell_type": "code",
   "execution_count": 7,
   "metadata": {},
   "outputs": [
    {
     "name": "stdout",
     "output_type": "stream",
     "text": [
      "[    0 32768 49152]\n",
      "(68160,)\n"
     ]
    },
    {
     "data": {
      "text/plain": [
       "array([1, 1, 1, ..., 1, 1, 1])"
      ]
     },
     "execution_count": 7,
     "metadata": {},
     "output_type": "execute_result"
    }
   ],
   "source": [
    "# Convert the 32bit integer color to 1, 2, ... labels.\n",
    "# Note that all-black, i.e. the value 0 for background will stay 0.\n",
    "colors, labels = np.unique(anno_lbl, return_inverse=True)\n",
    "print(colors)\n",
    "print(labels.shape)\n",
    "labels"
   ]
  },
  {
   "cell_type": "code",
   "execution_count": 8,
   "metadata": {},
   "outputs": [
    {
     "name": "stdout",
     "output_type": "stream",
     "text": [
      "Found a full-black pixel in annotation image, assuming it means 'unknown' label, and will thus not be present in the output!\n",
      "If 0 is an actual label for you, consider writing your own code, or simply giving your labels only non-zero values.\n",
      "[32768 49152]\n"
     ]
    }
   ],
   "source": [
    "# But remove the all-0 black, that won't exist in the MAP!\n",
    "HAS_UNK = 0 in colors\n",
    "if HAS_UNK:\n",
    "    print(\"Found a full-black pixel in annotation image, assuming it means 'unknown' label, and will thus not be present in the output!\")\n",
    "    print(\"If 0 is an actual label for you, consider writing your own code, or simply giving your labels only non-zero values.\")\n",
    "    colors = colors[1:]\n",
    "print(colors)"
   ]
  },
  {
   "cell_type": "code",
   "execution_count": 9,
   "metadata": {
    "scrolled": true
   },
   "outputs": [
    {
     "data": {
      "text/plain": [
       "array([[  0, 128,   0],\n",
       "       [  0, 192,   0]], dtype=uint8)"
      ]
     },
     "execution_count": 9,
     "metadata": {},
     "output_type": "execute_result"
    }
   ],
   "source": [
    "# And create a mapping back from the labels to 32bit integer colors.\n",
    "colorize = np.empty((len(colors), 3), np.uint8)\n",
    "colorize[:,0] = (colors & 0x0000FF)\n",
    "colorize[:,1] = (colors & 0x00FF00) >> 8\n",
    "colorize[:,2] = (colors & 0xFF0000) >> 16\n",
    "colorize"
   ]
  },
  {
   "cell_type": "code",
   "execution_count": 10,
   "metadata": {},
   "outputs": [
    {
     "name": "stdout",
     "output_type": "stream",
     "text": [
      "2  labels  plus \"unknown\" 0:  {0, 1, 2}\n"
     ]
    }
   ],
   "source": [
    "# Compute the number of classes in the label image.\n",
    "# We subtract one because the number shouldn't include the value 0 which stands\n",
    "# for \"unknown\" or \"unsure\".\n",
    "n_labels = len(set(labels.flat)) - int(HAS_UNK)\n",
    "print(n_labels, \" labels\", (\" plus \\\"unknown\\\" 0: \" if HAS_UNK else \"\"), set(labels.flat))"
   ]
  },
  {
   "cell_type": "code",
   "execution_count": 11,
   "metadata": {},
   "outputs": [
    {
     "name": "stdout",
     "output_type": "stream",
     "text": [
      "Using generic 2D functions\n"
     ]
    }
   ],
   "source": [
    "###########################\n",
    "### Setup the CRF model ###\n",
    "###########################\n",
    "\n",
    "print(\"Using generic 2D functions\")\n",
    "\n",
    "# Example using the DenseCRF class and the util functions\n",
    "d = dcrf.DenseCRF(img.shape[1] * img.shape[0], n_labels)\n",
    "\n",
    "# get unary potentials (neg log probability)\n",
    "U = unary_from_labels(labels, n_labels, gt_prob=0.7, zero_unsure=HAS_UNK)\n",
    "d.setUnaryEnergy(U)\n",
    "\n",
    "# This creates the color-independent features and then add them to the CRF\n",
    "feats = create_pairwise_gaussian(sdims=(3, 3), shape=img.shape[:2])\n",
    "d.addPairwiseEnergy(feats, compat=3,\n",
    "                    kernel=dcrf.DIAG_KERNEL,\n",
    "                    normalization=dcrf.NORMALIZE_SYMMETRIC)\n",
    "\n",
    "# This creates the color-dependent features and then add them to the CRF\n",
    "feats = create_pairwise_bilateral(sdims=(80, 80), schan=(13, 13, 13),\n",
    "                                  img=img, chdim=2)\n",
    "d.addPairwiseEnergy(feats, compat=10,\n",
    "                    kernel=dcrf.DIAG_KERNEL,\n",
    "                    normalization=dcrf.NORMALIZE_SYMMETRIC)\n"
   ]
  },
  {
   "cell_type": "code",
   "execution_count": 12,
   "metadata": {},
   "outputs": [],
   "source": [
    "####################################\n",
    "### Do inference and compute MAP ###\n",
    "####################################\n",
    "\n",
    "# Run five inference steps.\n",
    "Q = d.inference(5)"
   ]
  },
  {
   "cell_type": "code",
   "execution_count": 13,
   "metadata": {},
   "outputs": [],
   "source": [
    "# Find out the most probable class for each pixel.\n",
    "MAP = np.argmax(Q, axis=0)"
   ]
  },
  {
   "cell_type": "code",
   "execution_count": 14,
   "metadata": {},
   "outputs": [
    {
     "data": {
      "text/plain": [
       "True"
      ]
     },
     "execution_count": 14,
     "metadata": {},
     "output_type": "execute_result"
    }
   ],
   "source": [
    "# Convert the MAP (labels) back to the corresponding colors and save the image.\n",
    "# Note that there is no \"unknown\" here anymore, no matter what we had at first.\n",
    "MAP = colorize[MAP,:]\n",
    "imwrite(fn_output, MAP.reshape(img.shape))"
   ]
  },
  {
   "cell_type": "code",
   "execution_count": 19,
   "metadata": {},
   "outputs": [
    {
     "name": "stdout",
     "output_type": "stream",
     "text": [
      "KL-divergence at 0: -474644.65885096736\n",
      "KL-divergence at 1: -698790.8267423583\n",
      "KL-divergence at 2: -766858.5600422554\n",
      "KL-divergence at 3: -771025.2255776466\n",
      "KL-divergence at 4: -771661.582425735\n"
     ]
    }
   ],
   "source": [
    "# Just randomly manually run inference iterations\n",
    "Q, tmp1, tmp2 = d.startInference()\n",
    "for i in range(5):\n",
    "    print(\"KL-divergence at {}: {}\".format(i, d.klDivergence(Q)))\n",
    "    d.stepInference(Q, tmp1, tmp2)\n"
   ]
  }
 ],
 "metadata": {
  "kernelspec": {
   "display_name": "Python 3",
   "language": "python",
   "name": "python3"
  },
  "language_info": {
   "codemirror_mode": {
    "name": "ipython",
    "version": 3
   },
   "file_extension": ".py",
   "mimetype": "text/x-python",
   "name": "python",
   "nbconvert_exporter": "python",
   "pygments_lexer": "ipython3",
   "version": "3.6.6"
  }
 },
 "nbformat": 4,
 "nbformat_minor": 2
}
